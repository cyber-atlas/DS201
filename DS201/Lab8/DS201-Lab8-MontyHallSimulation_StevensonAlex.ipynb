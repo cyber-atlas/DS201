{
 "cells": [
  {
   "cell_type": "code",
   "execution_count": 1,
   "metadata": {},
   "outputs": [
    {
     "name": "stdout",
     "output_type": "stream",
     "text": [
      "No of doors: 10\n",
      "[['O', 'O', 'X'], ['O', 'X', 'O'], ['X', 'O', 'O'], ['O', 'X', 'O'], ['X', 'O', 'O'], ['O', 'O', 'X'], ['O', 'O', 'X'], ['O', 'X', 'O'], ['O', 'O', 'X'], ['X', 'O', 'O']]\n"
     ]
    }
   ],
   "source": [
    "import random\n",
    "n = 10\n",
    "doors =[]\n",
    "for i in range(n):\n",
    "    ran = random.choice(\"012\")\n",
    "    if ran == \"0\":\n",
    "        doors.append([\"X\", \"O\", \"O\"])\n",
    "    elif ran == \"1\":\n",
    "        doors.append([\"O\", \"X\", \"O\"])\n",
    "    else:\n",
    "        doors.append([\"O\", \"O\", \"X\"])\n",
    "print(\"No of doors:\", n)\n",
    "print(doors)"
   ]
  },
  {
   "cell_type": "code",
   "execution_count": 2,
   "metadata": {},
   "outputs": [],
   "source": [
    "def chance_to_win(list):\n",
    "    sum0 = 0\n",
    "    sum1 = 0\n",
    "    sum2 = 0\n",
    "    for i in range(len(list)):\n",
    "        for j in range(3):\n",
    "                if j==0 and list[i][j] == \"X\":\n",
    "                    sum0 += 1\n",
    "                elif j == 1 and list[i][j] == \"X\":\n",
    "                    sum1 += 1\n",
    "                elif j ==2 and list[i][j] == \"X\":\n",
    "                    sum2 += 1\n",
    "    total = sum0 + sum1 + sum2\n",
    "    print(\"Prob of first door: \", sum0/total)\n",
    "    print(\"Prob of second door: \", sum1/total)\n",
    "    print(\"Prob of third door: \", sum2/total)"
   ]
  },
  {
   "cell_type": "code",
   "execution_count": 3,
   "metadata": {},
   "outputs": [
    {
     "name": "stdout",
     "output_type": "stream",
     "text": [
      "Prob of first door:  0.3\n",
      "Prob of second door:  0.3\n",
      "Prob of third door:  0.4\n"
     ]
    }
   ],
   "source": [
    "chance_to_win(doors)"
   ]
  },
  {
   "cell_type": "code",
   "execution_count": 4,
   "metadata": {},
   "outputs": [],
   "source": [
    "def chance_to_win_if_stay(list):\n",
    "    sum0 = 0\n",
    "    sum1 = 0\n",
    "    sum2 = 0\n",
    "    for i in range(len(list)):\n",
    "        win = 0\n",
    "        for j in range(3):\n",
    "                if j==0 and list[i][j] == \"X\":\n",
    "                    chosen_door = 1\n",
    "                    sum0 += 1\n",
    "                    win += 1\n",
    "                elif j == 1 and list[i][j] == \"X\":\n",
    "                    chosen_door = 2\n",
    "                    sum1 += 1\n",
    "                elif j == 2 and list[i][j] == \"X\":\n",
    "                    chosen_door = 2\n",
    "                    sum2 += 1\n",
    "        print(\"Game No: \", i, \" Door no: \", chosen_door, \"Win?\", win)\n",
    "    total = sum0 + sum1 + sum2\n",
    "    print(\"Changce to win if stay\", sum0/total)\n",
    "#     print(\"Prob of first door: \", sum0/total)\n",
    "#     print(\"Prob of second door: \", sum1/total)\n",
    "#     print(\"Prob of third door: \", sum2/total)"
   ]
  },
  {
   "cell_type": "code",
   "execution_count": 5,
   "metadata": {},
   "outputs": [
    {
     "name": "stdout",
     "output_type": "stream",
     "text": [
      "Game No:  0  Door no:  2 Win? 0\n",
      "Game No:  1  Door no:  2 Win? 0\n",
      "Game No:  2  Door no:  1 Win? 1\n",
      "Game No:  3  Door no:  2 Win? 0\n",
      "Game No:  4  Door no:  1 Win? 1\n",
      "Game No:  5  Door no:  2 Win? 0\n",
      "Game No:  6  Door no:  2 Win? 0\n",
      "Game No:  7  Door no:  2 Win? 0\n",
      "Game No:  8  Door no:  2 Win? 0\n",
      "Game No:  9  Door no:  1 Win? 1\n",
      "Changce to win if stay 0.3\n"
     ]
    }
   ],
   "source": [
    "chance_to_win_if_stay(doors)"
   ]
  },
  {
   "cell_type": "code",
   "execution_count": 6,
   "metadata": {},
   "outputs": [],
   "source": [
    "def chance_to_win_if_change(list):\n",
    "    sum0 = 0\n",
    "    sum1 = 0\n",
    "    sum2 = 0\n",
    "    for i in range(len(list)):\n",
    "        win = 0\n",
    "        for j in range(3):\n",
    "                if j==0 and list[i][j] == \"X\":\n",
    "                    chosen_door = 1\n",
    "                    sum0 += 1\n",
    "                elif j == 1 and list[i][j] == \"X\":\n",
    "                    chosen_door = 2\n",
    "                    sum1 += 1\n",
    "                    win += 1\n",
    "                elif j == 2 and list[i][j] == \"X\":\n",
    "                    chosen_door = 2\n",
    "                    sum2 += 1\n",
    "                    win += 1\n",
    "        print(\"Game No: \", i, \" Door no: \", chosen_door, \"Win?\", win)\n",
    "    total = sum0 + sum1 + sum2\n",
    "    print(\"Chance to win if change:\", (sum1+sum2)/total)\n",
    "#     print(\"Prob of first door: \", sum0/total)\n",
    "#     print(\"Prob of second door: \", sum1/total)\n",
    "#     print(\"Prob of third door: \", sum2/total)"
   ]
  },
  {
   "cell_type": "code",
   "execution_count": 7,
   "metadata": {},
   "outputs": [
    {
     "name": "stdout",
     "output_type": "stream",
     "text": [
      "Game No:  0  Door no:  2 Win? 1\n",
      "Game No:  1  Door no:  2 Win? 1\n",
      "Game No:  2  Door no:  1 Win? 0\n",
      "Game No:  3  Door no:  2 Win? 1\n",
      "Game No:  4  Door no:  1 Win? 0\n",
      "Game No:  5  Door no:  2 Win? 1\n",
      "Game No:  6  Door no:  2 Win? 1\n",
      "Game No:  7  Door no:  2 Win? 1\n",
      "Game No:  8  Door no:  2 Win? 1\n",
      "Game No:  9  Door no:  1 Win? 0\n",
      "Chance to win if change: 0.7\n"
     ]
    }
   ],
   "source": [
    "chance_to_win_if_change(doors)"
   ]
  },
  {
   "cell_type": "code",
   "execution_count": null,
   "metadata": {},
   "outputs": [],
   "source": []
  },
  {
   "cell_type": "code",
   "execution_count": null,
   "metadata": {},
   "outputs": [],
   "source": []
  },
  {
   "cell_type": "code",
   "execution_count": null,
   "metadata": {},
   "outputs": [],
   "source": []
  },
  {
   "cell_type": "code",
   "execution_count": null,
   "metadata": {},
   "outputs": [],
   "source": []
  }
 ],
 "metadata": {
  "kernelspec": {
   "display_name": "Python 3",
   "language": "python",
   "name": "python3"
  },
  "language_info": {
   "codemirror_mode": {
    "name": "ipython",
    "version": 3
   },
   "file_extension": ".py",
   "mimetype": "text/x-python",
   "name": "python",
   "nbconvert_exporter": "python",
   "pygments_lexer": "ipython3",
   "version": "3.6.5"
  }
 },
 "nbformat": 4,
 "nbformat_minor": 2
}
