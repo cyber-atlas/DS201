{
 "cells": [
  {
   "cell_type": "code",
   "execution_count": 1,
   "metadata": {},
   "outputs": [],
   "source": [
    "import pandas as pd\n",
    "import numpy as np\n",
    "from sklearn.tree import DecisionTreeClassifier"
   ]
  },
  {
   "cell_type": "code",
   "execution_count": 2,
   "metadata": {},
   "outputs": [
    {
     "name": "stdout",
     "output_type": "stream",
     "text": [
      "[['140' 'Smooth']\n",
      " ['130' 'Smooth']\n",
      " ['150' 'Bumpy']\n",
      " ['170' 'Bumpy']]\n",
      "['Apple', 'Apple', 'Orange', 'Orange']\n"
     ]
    }
   ],
   "source": [
    "#Apple or Orange\n",
    "#The 2 features that we are looking at are weight and skin\n",
    "weight = [140, 130, 150, 170]\n",
    "skin = ['Smooth', 'Smooth', 'Bumpy', 'Bumpy']\n",
    "#Takes the 2 arrays in, converts them to numpy arrays and returns a 2d numpy array\n",
    "stack = np.column_stack((np.array(weight), np.array(skin)))\n",
    "#To show that we did it right\n",
    "print(stack)\n",
    "#The labels we need\n",
    "fruit = ['Apple', 'Apple', 'Orange', 'Orange']\n",
    "print(fruit)"
   ]
  },
  {
   "cell_type": "code",
   "execution_count": 3,
   "metadata": {},
   "outputs": [
    {
     "name": "stdout",
     "output_type": "stream",
     "text": [
      "[[140   0]\n",
      " [130   0]\n",
      " [150   1]\n",
      " [170   1]]\n"
     ]
    }
   ],
   "source": [
    "#Now that we know that our arrays are being displayed correctly, we'll change the strings to ints\n",
    "#In most situations we'd write a loop to go through the arrays and replace the vals\n",
    "#0 = Smooth, 1 = Bumpy\n",
    "skin=[0,0,1,1]\n",
    "#0=Apple 1=Orange\n",
    "fruit = [0,0,1,1]\n",
    "#Make them into a 2d array now for use\n",
    "features = np.column_stack((np.array(weight), np.array(skin)))\n",
    "print(features)\n"
   ]
  },
  {
   "cell_type": "code",
   "execution_count": 4,
   "metadata": {},
   "outputs": [],
   "source": [
    "#Creates a classifier\n",
    "clf = DecisionTreeClassifier()"
   ]
  },
  {
   "cell_type": "code",
   "execution_count": 5,
   "metadata": {},
   "outputs": [],
   "source": [
    "#Trains the classifier with our data\n",
    "clf = clf.fit(features, fruit)\n"
   ]
  },
  {
   "cell_type": "code",
   "execution_count": 6,
   "metadata": {},
   "outputs": [],
   "source": [
    "#Print the proper label\n",
    "def labelPrediction(predicted):\n",
    "    if predicted == 0:\n",
    "        predicted = 'Apple'\n",
    "    elif predicted == 1:\n",
    "        predicted = 'Orange'\n",
    "    print('Prediction: ', predicted)"
   ]
  },
  {
   "cell_type": "code",
   "execution_count": 7,
   "metadata": {},
   "outputs": [
    {
     "name": "stdout",
     "output_type": "stream",
     "text": [
      "Prediction:  Apple\n"
     ]
    }
   ],
   "source": [
    "#Predict which kind of fruit weighs 140 with bumpy skin\n",
    "prediction = clf.predict([[140,1]])\n",
    "labelPrediction(prediction)"
   ]
  },
  {
   "cell_type": "code",
   "execution_count": 8,
   "metadata": {},
   "outputs": [],
   "source": [
    "#Try the different data feature combination"
   ]
  },
  {
   "cell_type": "code",
   "execution_count": 9,
   "metadata": {},
   "outputs": [
    {
     "name": "stdout",
     "output_type": "stream",
     "text": [
      "Prediction:  Orange\n"
     ]
    }
   ],
   "source": [
    "#Let's see if flipping the order of the features matters\n",
    "features = np.column_stack((np.array(skin), np.array(weight)))\n",
    "clf = clf.fit(features, fruit)\n",
    "pred = clf.predict([[1,140]])\n",
    "labelPrediction(pred)"
   ]
  },
  {
   "cell_type": "code",
   "execution_count": 10,
   "metadata": {},
   "outputs": [],
   "source": [
    "#Looks like the order in which we place the features does not matter"
   ]
  },
  {
   "cell_type": "code",
   "execution_count": 11,
   "metadata": {},
   "outputs": [
    {
     "name": "stdout",
     "output_type": "stream",
     "text": [
      "[[  1 140]\n",
      " [  0 130]\n",
      " [  1 150]\n",
      " [  0 170]]\n",
      "Prediction:  Apple\n"
     ]
    }
   ],
   "source": [
    "#Making a set where the skin alternates, to test skin importance\n",
    "#0 = Smooth, 1 = Bumpy\n",
    "skin2 = [1 , 0, 1, 0]\n",
    "weight2 = [140, 130, 150, 170]\n",
    "#0=Apple 1=Orange\n",
    "fruit2 = [0,0,1,1]\n",
    "features2 = np.column_stack((np.array(skin2), np.array(weight2)))\n",
    "\n",
    "print(features2)\n",
    "\n",
    "clf2 = DecisionTreeClassifier()\n",
    "clf2 = clf2.fit(features2, fruit2)\n",
    "\n",
    "prediction2 = clf2.predict([[140,1]])\n",
    "labelPrediction(prediction2)"
   ]
  },
  {
   "cell_type": "code",
   "execution_count": 12,
   "metadata": {},
   "outputs": [
    {
     "name": "stdout",
     "output_type": "stream",
     "text": [
      "[[  0 170]\n",
      " [  0 130]\n",
      " [  1 150]\n",
      " [  1 140]]\n",
      "Prediction:  Apple\n"
     ]
    }
   ],
   "source": [
    "#Making a set where the weight alternates, to test weight importance\n",
    "#0 = Smooth, 1 = Bumpy\n",
    "skin3 = [0 , 0, 1, 1]\n",
    "weight3 = [170, 130, 150, 140]\n",
    "#0=Apple 1=Orange\n",
    "fruit3 = [0, 0, 1, 1]\n",
    "features3 = np.column_stack((np.array(skin3), np.array(weight3)))\n",
    "\n",
    "print(features3)\n",
    "\n",
    "clf3 = DecisionTreeClassifier()\n",
    "clf3 = clf3.fit(features2, fruit)\n",
    "\n",
    "prediction3 = clf3.predict([[140,1]])\n",
    "labelPrediction(prediction3)"
   ]
  },
  {
   "cell_type": "code",
   "execution_count": 13,
   "metadata": {},
   "outputs": [],
   "source": [
    "#Both changes, skewed the data\n",
    "#Leading me to believe that on a dataset this small both features are equally important"
   ]
  },
  {
   "cell_type": "code",
   "execution_count": 14,
   "metadata": {},
   "outputs": [
    {
     "name": "stdout",
     "output_type": "stream",
     "text": [
      "[0, 0, 1, 0, 1, 1]\n",
      "[[ 0 15]\n",
      " [ 0 25]\n",
      " [ 1 32]\n",
      " [ 0 40]\n",
      " [ 1 12]\n",
      " [ 1 14]]\n",
      "Snap Chat\n"
     ]
    }
   ],
   "source": [
    "#App Recommendations\n",
    "#The genders from our dataset\n",
    "gender = ['F', 'F', 'M', 'F', 'M', 'M']\n",
    "#Turn the gender into ints so we can use them\n",
    "gender = [0, 0, 1, 0, 1, 1]\n",
    "\n",
    "print(gender)\n",
    "\n",
    "#The ages from our dataset\n",
    "age = [15, 25, 32, 40, 12, 14]\n",
    "\n",
    "#The apps tied to the data\n",
    "app = ['Pokemon Go', 'WhatsApp', 'Snap Chat', 'WhatsApp', 'Pokemon Go', 'Pokemon Go']\n",
    "#Making the app related to int \n",
    "#Pokemon Go = 0 WhatsApp = 1 Snap Chat = 2\n",
    "app = [0, 1, 2, 1, 0, 0]\n",
    "\n",
    "def listApp(pre):\n",
    "    if pre == 0:\n",
    "        print ('Pokemon Go')\n",
    "    elif pre == 1:\n",
    "        print ('WhatsApp')\n",
    "    elif pre == 2:\n",
    "        print ('Snap Chat')\n",
    "\n",
    "appFeatures = np.column_stack((np.array(gender), np.array(age)))\n",
    "print(appFeatures)\n",
    "\n",
    "appClf = DecisionTreeClassifier()\n",
    "appClf = appClf.fit(appFeatures, app)\n",
    "#Predict app for Male, 21\n",
    "appPred = appClf.predict([[1, 21]])\n",
    "listApp(appPred)"
   ]
  },
  {
   "cell_type": "code",
   "execution_count": 15,
   "metadata": {},
   "outputs": [
    {
     "name": "stdout",
     "output_type": "stream",
     "text": [
      "Pokemon Go\n"
     ]
    }
   ],
   "source": [
    "#Predict app for Female 18\n",
    "appPred2 = appClf.predict([[0, 18]])\n",
    "listApp(appPred2)"
   ]
  },
  {
   "cell_type": "code",
   "execution_count": null,
   "metadata": {},
   "outputs": [],
   "source": []
  }
 ],
 "metadata": {
  "kernelspec": {
   "display_name": "Python 3",
   "language": "python",
   "name": "python3"
  },
  "language_info": {
   "codemirror_mode": {
    "name": "ipython",
    "version": 3
   },
   "file_extension": ".py",
   "mimetype": "text/x-python",
   "name": "python",
   "nbconvert_exporter": "python",
   "pygments_lexer": "ipython3",
   "version": "3.6.5"
  }
 },
 "nbformat": 4,
 "nbformat_minor": 2
}
