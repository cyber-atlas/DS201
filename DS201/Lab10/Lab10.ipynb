{
 "cells": [
  {
   "cell_type": "code",
   "execution_count": 1,
   "metadata": {},
   "outputs": [],
   "source": [
    "import pandas as pd\n",
    "from bokeh.io import output_notebook, show, output_file\n",
    "from bokeh.plotting import figure\n",
    "import matplotlib.pyplot as plt"
   ]
  },
  {
   "cell_type": "code",
   "execution_count": 2,
   "metadata": {},
   "outputs": [],
   "source": [
    "df = pd.read_csv(\"Lemonade_Lab10.csv\")"
   ]
  },
  {
   "cell_type": "code",
   "execution_count": 3,
   "metadata": {},
   "outputs": [
    {
     "data": {
      "text/html": [
       "<div>\n",
       "<style scoped>\n",
       "    .dataframe tbody tr th:only-of-type {\n",
       "        vertical-align: middle;\n",
       "    }\n",
       "\n",
       "    .dataframe tbody tr th {\n",
       "        vertical-align: top;\n",
       "    }\n",
       "\n",
       "    .dataframe thead th {\n",
       "        text-align: right;\n",
       "    }\n",
       "</style>\n",
       "<table border=\"1\" class=\"dataframe\">\n",
       "  <thead>\n",
       "    <tr style=\"text-align: right;\">\n",
       "      <th></th>\n",
       "      <th>Date</th>\n",
       "      <th>Location</th>\n",
       "      <th>Lemon</th>\n",
       "      <th>Orange</th>\n",
       "      <th>Temperature</th>\n",
       "      <th>Leaflets</th>\n",
       "      <th>Price</th>\n",
       "    </tr>\n",
       "  </thead>\n",
       "  <tbody>\n",
       "    <tr>\n",
       "      <th>0</th>\n",
       "      <td>7/1/16</td>\n",
       "      <td>Park</td>\n",
       "      <td>97</td>\n",
       "      <td>78</td>\n",
       "      <td>70</td>\n",
       "      <td>90</td>\n",
       "      <td>0.25</td>\n",
       "    </tr>\n",
       "    <tr>\n",
       "      <th>1</th>\n",
       "      <td>7/2/16</td>\n",
       "      <td>Park</td>\n",
       "      <td>98</td>\n",
       "      <td>67</td>\n",
       "      <td>72</td>\n",
       "      <td>90</td>\n",
       "      <td>0.25</td>\n",
       "    </tr>\n",
       "    <tr>\n",
       "      <th>2</th>\n",
       "      <td>7/3/16</td>\n",
       "      <td>Park</td>\n",
       "      <td>110</td>\n",
       "      <td>54</td>\n",
       "      <td>71</td>\n",
       "      <td>104</td>\n",
       "      <td>0.25</td>\n",
       "    </tr>\n",
       "    <tr>\n",
       "      <th>3</th>\n",
       "      <td>7/4/16</td>\n",
       "      <td>Beach</td>\n",
       "      <td>134</td>\n",
       "      <td>56</td>\n",
       "      <td>76</td>\n",
       "      <td>98</td>\n",
       "      <td>0.25</td>\n",
       "    </tr>\n",
       "    <tr>\n",
       "      <th>4</th>\n",
       "      <td>7/5/16</td>\n",
       "      <td>Beach</td>\n",
       "      <td>159</td>\n",
       "      <td>90</td>\n",
       "      <td>78</td>\n",
       "      <td>135</td>\n",
       "      <td>0.25</td>\n",
       "    </tr>\n",
       "  </tbody>\n",
       "</table>\n",
       "</div>"
      ],
      "text/plain": [
       "     Date Location  Lemon  Orange  Temperature  Leaflets  Price\n",
       "0  7/1/16     Park     97      78           70        90   0.25\n",
       "1  7/2/16     Park     98      67           72        90   0.25\n",
       "2  7/3/16     Park    110      54           71       104   0.25\n",
       "3  7/4/16    Beach    134      56           76        98   0.25\n",
       "4  7/5/16    Beach    159      90           78       135   0.25"
      ]
     },
     "execution_count": 3,
     "metadata": {},
     "output_type": "execute_result"
    }
   ],
   "source": [
    "df.head(5)"
   ]
  },
  {
   "cell_type": "code",
   "execution_count": 4,
   "metadata": {},
   "outputs": [],
   "source": [
    "p = figure(title=\"Lemons and Orange Sales by Temperature\")"
   ]
  },
  {
   "cell_type": "code",
   "execution_count": 5,
   "metadata": {},
   "outputs": [],
   "source": [
    "p.circle(x=df[\"Temperature\"], y=df[\"Lemon\"], size=10, alpha=0.5, color=\"green\", legend=\"Lemon\")\n",
    "p.triangle(x=df[\"Temperature\"], y=df[\"Orange\"], size=10, alpha=0.5, color=\"orange\", legend=\"Orange\")\n",
    "p.legend.location=\"top_left\"\n",
    "show(p)"
   ]
  },
  {
   "cell_type": "code",
   "execution_count": 6,
   "metadata": {},
   "outputs": [],
   "source": [
    "grouped =  df.groupby(\"Temperature\")\n",
    "lem = grouped[\"Lemon\"]\n",
    "#Average of the lemons by temperature\n",
    "avg = lem.mean()\n",
    "#standard deviation of lemon by temperature\n",
    "std = lem.std()\n",
    "Tem = list(grouped.groups.keys())\n",
    "Park = df[df[\"Location\"]==\"Park\"]\n",
    "Beach = df[df[\"Location\"] == \"Beach\"]\n"
   ]
  },
  {
   "cell_type": "code",
   "execution_count": 7,
   "metadata": {},
   "outputs": [],
   "source": [
    "v = figure(title = \"Temperature vs Lemon Sales (Park and Beach)\")"
   ]
  },
  {
   "cell_type": "code",
   "execution_count": 8,
   "metadata": {},
   "outputs": [],
   "source": [
    "v.vbar(x=Tem, bottom=avg-std, top=avg+std, width =0.8, fill_alpha=0.2, line_color=None, legend=\"Lemon Revenue 1 stddev\")\n",
    "v.circle(x=Beach[\"Temperature\"], y=Beach[\"Lemon\"], alpha=0.5, size=10, color =\"red\", legend=\"Sales in Beach\")\n",
    "v.triangle(x=Park[\"Temperature\"], y=Park[\"Lemon\"], alpha=0.5, size=10, color=\"blue\", legend=\"Sales in Park\")\n",
    "v.legend.location=\"top_left\"\n",
    "show(v)"
   ]
  },
  {
   "cell_type": "code",
   "execution_count": null,
   "metadata": {},
   "outputs": [],
   "source": []
  },
  {
   "cell_type": "code",
   "execution_count": null,
   "metadata": {},
   "outputs": [],
   "source": []
  }
 ],
 "metadata": {
  "kernelspec": {
   "display_name": "Python 3",
   "language": "python",
   "name": "python3"
  },
  "language_info": {
   "codemirror_mode": {
    "name": "ipython",
    "version": 3
   },
   "file_extension": ".py",
   "mimetype": "text/x-python",
   "name": "python",
   "nbconvert_exporter": "python",
   "pygments_lexer": "ipython3",
   "version": "3.6.5"
  }
 },
 "nbformat": 4,
 "nbformat_minor": 2
}
